{
 "cells": [
  {
   "cell_type": "code",
   "execution_count": 1,
   "metadata": {},
   "outputs": [],
   "source": [
    "import pandas as pd\n",
    "from datetime import datetime, timedelta\n",
    "import numpy as np\n",
    "from catboost import Pool\n",
    "\n",
    "from data import get_data\n",
    "from train import train_loop"
   ]
  },
  {
   "cell_type": "code",
   "execution_count": 2,
   "metadata": {},
   "outputs": [],
   "source": [
    "cats = [\n",
    "    'repair',\n",
    "    'night',\n",
    "    'month',\n",
    "    'weekday'\n",
    "]\n",
    "\n",
    "drop_cols = [\n",
    "    'road_id',\n",
    "    'road_km',\n",
    "    'datetime'\n",
    "]"
   ]
  },
  {
   "cell_type": "code",
   "execution_count": 3,
   "metadata": {},
   "outputs": [],
   "source": [
    "train = get_data('data/raw/train1.csv')"
   ]
  },
  {
   "cell_type": "code",
   "execution_count": 4,
   "metadata": {},
   "outputs": [
    {
     "name": "stdout",
     "output_type": "stream",
     "text": [
      "Размер выборки для обучения:  (121219, 22)\n",
      "Размер выборки для тестирования:  (30305, 22)\n",
      "F1-score: 0.4102188252329935\n",
      "     predicted  truth\n",
      "0.0      30080  29337\n",
      "1.0        208    805\n",
      "2.0         17    163\n"
     ]
    }
   ],
   "source": [
    "clf, score = train_loop(train.drop(drop_cols, axis=1), cats=cats, class_weights=[1, 2, 4])"
   ]
  },
  {
   "cell_type": "code",
   "execution_count": 5,
   "metadata": {},
   "outputs": [],
   "source": [
    "test = get_data('data/raw/test1.csv', target=False)"
   ]
  },
  {
   "cell_type": "code",
   "execution_count": 6,
   "metadata": {},
   "outputs": [],
   "source": [
    "test_pool = Pool(test.drop(drop_cols, axis=1), cat_features=cats)\n",
    "test['target'] = clf.predict(test_pool).astype(int)"
   ]
  },
  {
   "cell_type": "code",
   "execution_count": 7,
   "metadata": {},
   "outputs": [
    {
     "data": {
      "text/plain": "0    7315429\n1      25351\n2       2374\nName: target, dtype: int64"
     },
     "execution_count": 7,
     "metadata": {},
     "output_type": "execute_result"
    }
   ],
   "source": [
    "test['target'].value_counts()"
   ]
  },
  {
   "cell_type": "code",
   "execution_count": 15,
   "metadata": {},
   "outputs": [],
   "source": [
    "from time import time\n",
    "prediction = test[['datetime','road_id','road_km','target']][test['target'] != 0]\n",
    "prediction.to_csv(f'data/predictions/sol_{int(time())}.csv', index=False)"
   ]
  },
  {
   "cell_type": "code",
   "execution_count": 16,
   "metadata": {},
   "outputs": [
    {
     "data": {
      "text/plain": "(7343154, 14)"
     },
     "execution_count": 16,
     "metadata": {},
     "output_type": "execute_result"
    }
   ],
   "source": [
    "test.shape"
   ]
  },
  {
   "cell_type": "code",
   "execution_count": 17,
   "metadata": {},
   "outputs": [
    {
     "data": {
      "text/html": "<div>\n<style scoped>\n    .dataframe tbody tr th:only-of-type {\n        vertical-align: middle;\n    }\n\n    .dataframe tbody tr th {\n        vertical-align: top;\n    }\n\n    .dataframe thead th {\n        text-align: right;\n    }\n</style>\n<table border=\"1\" class=\"dataframe\">\n  <thead>\n    <tr style=\"text-align: right;\">\n      <th></th>\n      <th>datetime</th>\n      <th>road_id</th>\n      <th>road_km</th>\n      <th>target</th>\n      <th>lane_count</th>\n      <th>volume</th>\n      <th>occupancy</th>\n      <th>speed</th>\n      <th>repair</th>\n      <th>man_damaged_num</th>\n      <th>car_damaged_num</th>\n      <th>night</th>\n      <th>month</th>\n      <th>weekday</th>\n    </tr>\n  </thead>\n  <tbody>\n    <tr>\n      <th>0</th>\n      <td>2020-01-01 01:00:00</td>\n      <td>9</td>\n      <td>38</td>\n      <td>0</td>\n      <td>3.0</td>\n      <td>87.0</td>\n      <td>1.0</td>\n      <td>114.671875</td>\n      <td>0</td>\n      <td>918</td>\n      <td>16857.0</td>\n      <td>1</td>\n      <td>1</td>\n      <td>2</td>\n    </tr>\n    <tr>\n      <th>1</th>\n      <td>2020-01-01 01:00:00</td>\n      <td>9</td>\n      <td>38</td>\n      <td>0</td>\n      <td>3.0</td>\n      <td>207.0</td>\n      <td>1.0</td>\n      <td>115.708435</td>\n      <td>0</td>\n      <td>918</td>\n      <td>16857.0</td>\n      <td>1</td>\n      <td>1</td>\n      <td>2</td>\n    </tr>\n    <tr>\n      <th>2</th>\n      <td>2020-01-01 01:00:00</td>\n      <td>9</td>\n      <td>38</td>\n      <td>0</td>\n      <td>3.0</td>\n      <td>43.0</td>\n      <td>20.0</td>\n      <td>46.453125</td>\n      <td>0</td>\n      <td>918</td>\n      <td>16857.0</td>\n      <td>1</td>\n      <td>1</td>\n      <td>2</td>\n    </tr>\n    <tr>\n      <th>3</th>\n      <td>2020-01-01 01:00:00</td>\n      <td>9</td>\n      <td>38</td>\n      <td>0</td>\n      <td>3.0</td>\n      <td>195.0</td>\n      <td>1.0</td>\n      <td>97.796875</td>\n      <td>0</td>\n      <td>918</td>\n      <td>16857.0</td>\n      <td>1</td>\n      <td>1</td>\n      <td>2</td>\n    </tr>\n    <tr>\n      <th>4</th>\n      <td>2020-01-01 01:00:00</td>\n      <td>9</td>\n      <td>38</td>\n      <td>0</td>\n      <td>3.0</td>\n      <td>89.0</td>\n      <td>1.0</td>\n      <td>108.213440</td>\n      <td>0</td>\n      <td>918</td>\n      <td>16857.0</td>\n      <td>1</td>\n      <td>1</td>\n      <td>2</td>\n    </tr>\n  </tbody>\n</table>\n</div>",
      "text/plain": "             datetime  road_id  road_km  target  lane_count  volume  \\\n0 2020-01-01 01:00:00        9       38       0         3.0    87.0   \n1 2020-01-01 01:00:00        9       38       0         3.0   207.0   \n2 2020-01-01 01:00:00        9       38       0         3.0    43.0   \n3 2020-01-01 01:00:00        9       38       0         3.0   195.0   \n4 2020-01-01 01:00:00        9       38       0         3.0    89.0   \n\n   occupancy       speed  repair  man_damaged_num  car_damaged_num  night  \\\n0        1.0  114.671875       0              918          16857.0      1   \n1        1.0  115.708435       0              918          16857.0      1   \n2       20.0   46.453125       0              918          16857.0      1   \n3        1.0   97.796875       0              918          16857.0      1   \n4        1.0  108.213440       0              918          16857.0      1   \n\n   month  weekday  \n0      1        2  \n1      1        2  \n2      1        2  \n3      1        2  \n4      1        2  "
     },
     "execution_count": 17,
     "metadata": {},
     "output_type": "execute_result"
    }
   ],
   "source": [
    "test.head()"
   ]
  },
  {
   "cell_type": "code",
   "execution_count": null,
   "metadata": {},
   "outputs": [],
   "source": []
  }
 ],
 "metadata": {
  "kernelspec": {
   "display_name": "Python 3.6.9 64-bit",
   "name": "python3"
  },
  "language_info": {
   "codemirror_mode": {
    "name": "ipython",
    "version": 3
   },
   "file_extension": ".py",
   "mimetype": "text/x-python",
   "name": "python",
   "nbconvert_exporter": "python",
   "pygments_lexer": "ipython3",
   "version": "3.6.9"
  },
  "orig_nbformat": 3
 },
 "nbformat": 4,
 "nbformat_minor": 4
}