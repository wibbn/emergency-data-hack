{
 "cells": [
  {
   "cell_type": "code",
   "execution_count": 1,
   "metadata": {},
   "outputs": [],
   "source": [
    "import pandas as pd\n",
    "from datetime import datetime, timedelta\n",
    "import numpy as np\n",
    "from catboost import Pool\n",
    "\n",
    "from data import get_data\n",
    "from train import train_loop"
   ]
  },
  {
   "cell_type": "code",
   "execution_count": 2,
   "metadata": {},
   "outputs": [],
   "source": [
    "cats = [\n",
    "    'repair',\n",
    "    'night',\n",
    "    'month',\n",
    "    'weekday'\n",
    "]\n",
    "\n",
    "drop_cols = [\n",
    "    'road_id',\n",
    "    'road_km',\n",
    "    'datetime'\n",
    "]"
   ]
  },
  {
   "cell_type": "code",
   "execution_count": 3,
   "metadata": {},
   "outputs": [],
   "source": [
    "train = get_data('data/raw/train1.csv', cats=cats)"
   ]
  },
  {
   "cell_type": "code",
   "execution_count": 4,
   "metadata": {},
   "outputs": [
    {
     "data": {
      "text/html": "<div>\n<style scoped>\n    .dataframe tbody tr th:only-of-type {\n        vertical-align: middle;\n    }\n\n    .dataframe tbody tr th {\n        vertical-align: top;\n    }\n\n    .dataframe thead th {\n        text-align: right;\n    }\n</style>\n<table border=\"1\" class=\"dataframe\">\n  <thead>\n    <tr style=\"text-align: right;\">\n      <th></th>\n      <th>datetime</th>\n      <th>road_km</th>\n      <th>target</th>\n      <th>road_id</th>\n      <th>data_id</th>\n      <th>station_id</th>\n      <th>volume</th>\n      <th>occupancy</th>\n      <th>speed</th>\n      <th>year</th>\n      <th>repair</th>\n      <th>night</th>\n      <th>month</th>\n      <th>weekday</th>\n    </tr>\n  </thead>\n  <tbody>\n    <tr>\n      <th>0</th>\n      <td>2016-01-05 09:00:00</td>\n      <td>790</td>\n      <td>2.0</td>\n      <td>9</td>\n      <td>9554029.0</td>\n      <td>41104.0</td>\n      <td>448.0</td>\n      <td>3.74</td>\n      <td>84.1</td>\n      <td>2016</td>\n      <td>0</td>\n      <td>0</td>\n      <td>1</td>\n      <td>1</td>\n    </tr>\n    <tr>\n      <th>1</th>\n      <td>2016-01-05 09:00:00</td>\n      <td>790</td>\n      <td>2.0</td>\n      <td>9</td>\n      <td>9554029.0</td>\n      <td>41104.0</td>\n      <td>140.0</td>\n      <td>4.01</td>\n      <td>77.1</td>\n      <td>2016</td>\n      <td>0</td>\n      <td>0</td>\n      <td>1</td>\n      <td>1</td>\n    </tr>\n    <tr>\n      <th>2</th>\n      <td>2016-01-06 14:00:00</td>\n      <td>1151</td>\n      <td>1.0</td>\n      <td>9</td>\n      <td>9566108.0</td>\n      <td>41103.0</td>\n      <td>296.0</td>\n      <td>4.16</td>\n      <td>61.7</td>\n      <td>2016</td>\n      <td>0</td>\n      <td>0</td>\n      <td>1</td>\n      <td>2</td>\n    </tr>\n    <tr>\n      <th>3</th>\n      <td>2016-01-06 14:00:00</td>\n      <td>1151</td>\n      <td>1.0</td>\n      <td>9</td>\n      <td>9566108.0</td>\n      <td>41103.0</td>\n      <td>736.0</td>\n      <td>12.46</td>\n      <td>65.4</td>\n      <td>2016</td>\n      <td>0</td>\n      <td>0</td>\n      <td>1</td>\n      <td>2</td>\n    </tr>\n    <tr>\n      <th>4</th>\n      <td>2016-01-06 14:00:00</td>\n      <td>1151</td>\n      <td>1.0</td>\n      <td>9</td>\n      <td>9566108.0</td>\n      <td>41103.0</td>\n      <td>432.0</td>\n      <td>7.67</td>\n      <td>56.9</td>\n      <td>2016</td>\n      <td>0</td>\n      <td>0</td>\n      <td>1</td>\n      <td>2</td>\n    </tr>\n  </tbody>\n</table>\n</div>",
      "text/plain": "             datetime  road_km  target  road_id    data_id  station_id  \\\n0 2016-01-05 09:00:00      790     2.0        9  9554029.0     41104.0   \n1 2016-01-05 09:00:00      790     2.0        9  9554029.0     41104.0   \n2 2016-01-06 14:00:00     1151     1.0        9  9566108.0     41103.0   \n3 2016-01-06 14:00:00     1151     1.0        9  9566108.0     41103.0   \n4 2016-01-06 14:00:00     1151     1.0        9  9566108.0     41103.0   \n\n   volume  occupancy  speed  year  repair  night  month  weekday  \n0   448.0       3.74   84.1  2016       0      0      1        1  \n1   140.0       4.01   77.1  2016       0      0      1        1  \n2   296.0       4.16   61.7  2016       0      0      1        2  \n3   736.0      12.46   65.4  2016       0      0      1        2  \n4   432.0       7.67   56.9  2016       0      0      1        2  "
     },
     "execution_count": 4,
     "metadata": {},
     "output_type": "execute_result"
    }
   ],
   "source": [
    "train.head()"
   ]
  },
  {
   "cell_type": "code",
   "execution_count": 6,
   "metadata": {},
   "outputs": [],
   "source": [
    "from sklearn.model_selection import train_test_split\n",
    "from sklearn.metrics import f1_score\n",
    "from catboost import CatBoostClassifier, Pool\n",
    "import pandas as pd\n",
    "\n",
    "def train_loop(data, cats, class_weights=[1, 1, 1]):\n",
    "    data = data.drop(data[data['target'] == 0].sample(frac=.98).index)\n",
    "\n",
    "    train, test = train_test_split(data, test_size=0.2)\n",
    "\n",
    "    print(\"Размер выборки для обучения: \", train.shape)\n",
    "    print(\"Размер выборки для тестирования: \", test.shape)\n",
    "    \n",
    "    train_x = train.drop('target', axis=1)\n",
    "    train_y = train['target']\n",
    "\n",
    "    test_x = test.drop('target', axis=1)\n",
    "    test_y = test['target']\n",
    "\n",
    "    train_pool = Pool(train_x, train_y, cat_features=cats)\n",
    "    test_pool = Pool(test_x, test_y, cat_features=cats)\n",
    "\n",
    "    clf = CatBoostClassifier(class_weights=class_weights, logging_level='Silent')\n",
    "    clf.fit(train_pool)\n",
    "\n",
    "    prediction = clf.predict(test_pool)\n",
    "\n",
    "    score = f1_score(test_y, prediction, average='macro')\n",
    "\n",
    "    print(f\"F1-score: {score}\")\n",
    "\n",
    "    print(pd.concat({\n",
    "        'predicted': pd.Series(prediction.flatten()).astype(int).value_counts(), \n",
    "        'truth': test_y.value_counts()\n",
    "    }, axis=1))\n",
    "\n",
    "    return clf, score"
   ]
  },
  {
   "cell_type": "code",
   "execution_count": 7,
   "metadata": {},
   "outputs": [
    {
     "name": "stdout",
     "output_type": "stream",
     "text": [
      "Размер выборки для обучения:  (121219, 11)\n",
      "Размер выборки для тестирования:  (30305, 11)\n",
      "F1-score: 0.36799489809435015\n",
      "     predicted  truth\n",
      "0.0      30222  29355\n",
      "1.0         82    771\n",
      "2.0          1    179\n"
     ]
    }
   ],
   "source": [
    "clf, score = train_loop(train.drop(drop_cols, axis=1), cats=cats)"
   ]
  },
  {
   "cell_type": "code",
   "execution_count": 8,
   "metadata": {},
   "outputs": [],
   "source": [
    "test = get_data('data/raw/test1.csv', target=False, cats=cats)"
   ]
  },
  {
   "cell_type": "code",
   "execution_count": 9,
   "metadata": {},
   "outputs": [],
   "source": [
    "test_pool = Pool(test.drop(drop_cols, axis=1), cat_features=cats)\n",
    "test['target'] = clf.predict(test_pool).astype(int)"
   ]
  },
  {
   "cell_type": "code",
   "execution_count": 10,
   "metadata": {},
   "outputs": [
    {
     "data": {
      "text/plain": "0    7335607\n1       7469\n2         78\nName: target, dtype: int64"
     },
     "execution_count": 10,
     "metadata": {},
     "output_type": "execute_result"
    }
   ],
   "source": [
    "test['target'].value_counts()"
   ]
  },
  {
   "cell_type": "code",
   "execution_count": 10,
   "metadata": {},
   "outputs": [],
   "source": [
    "from time import time\n",
    "prediction = test[['datetime','road_id','road_km','target']][test['target'] != 0]\n",
    "prediction.to_csv(f'data/predictions/sol_{int(time())}.csv', index=False)"
   ]
  },
  {
   "cell_type": "code",
   "execution_count": 11,
   "metadata": {},
   "outputs": [
    {
     "data": {
      "text/html": "<div>\n<style scoped>\n    .dataframe tbody tr th:only-of-type {\n        vertical-align: middle;\n    }\n\n    .dataframe tbody tr th {\n        vertical-align: top;\n    }\n\n    .dataframe thead th {\n        text-align: right;\n    }\n</style>\n<table border=\"1\" class=\"dataframe\">\n  <thead>\n    <tr style=\"text-align: right;\">\n      <th></th>\n      <th>datetime</th>\n      <th>road_id</th>\n      <th>road_km</th>\n      <th>target</th>\n      <th>data_id</th>\n      <th>station_id</th>\n      <th>volume</th>\n      <th>occupancy</th>\n      <th>speed</th>\n      <th>year</th>\n      <th>repair</th>\n      <th>night</th>\n      <th>month</th>\n      <th>weekday</th>\n    </tr>\n  </thead>\n  <tbody>\n    <tr>\n      <th>38</th>\n      <td>2020-01-01 01:00:00</td>\n      <td>9</td>\n      <td>38</td>\n      <td>0</td>\n      <td>34604682.0</td>\n      <td>53224.0</td>\n      <td>87.0</td>\n      <td>1.0</td>\n      <td>114.671875</td>\n      <td>2020</td>\n      <td>0.0</td>\n      <td>1</td>\n      <td>1</td>\n      <td>2</td>\n    </tr>\n    <tr>\n      <th>39</th>\n      <td>2020-01-01 01:00:00</td>\n      <td>9</td>\n      <td>38</td>\n      <td>0</td>\n      <td>34604682.0</td>\n      <td>53224.0</td>\n      <td>207.0</td>\n      <td>1.0</td>\n      <td>115.708435</td>\n      <td>2020</td>\n      <td>0.0</td>\n      <td>1</td>\n      <td>1</td>\n      <td>2</td>\n    </tr>\n    <tr>\n      <th>40</th>\n      <td>2020-01-01 01:00:00</td>\n      <td>9</td>\n      <td>38</td>\n      <td>0</td>\n      <td>34604682.0</td>\n      <td>53224.0</td>\n      <td>43.0</td>\n      <td>20.0</td>\n      <td>46.453125</td>\n      <td>2020</td>\n      <td>0.0</td>\n      <td>1</td>\n      <td>1</td>\n      <td>2</td>\n    </tr>\n    <tr>\n      <th>41</th>\n      <td>2020-01-01 01:00:00</td>\n      <td>9</td>\n      <td>38</td>\n      <td>0</td>\n      <td>34604682.0</td>\n      <td>53224.0</td>\n      <td>195.0</td>\n      <td>1.0</td>\n      <td>97.796875</td>\n      <td>2020</td>\n      <td>0.0</td>\n      <td>1</td>\n      <td>1</td>\n      <td>2</td>\n    </tr>\n    <tr>\n      <th>42</th>\n      <td>2020-01-01 01:00:00</td>\n      <td>9</td>\n      <td>38</td>\n      <td>0</td>\n      <td>34604682.0</td>\n      <td>53224.0</td>\n      <td>89.0</td>\n      <td>1.0</td>\n      <td>108.213440</td>\n      <td>2020</td>\n      <td>0.0</td>\n      <td>1</td>\n      <td>1</td>\n      <td>2</td>\n    </tr>\n  </tbody>\n</table>\n</div>",
      "text/plain": "              datetime  road_id  road_km  target     data_id  station_id  \\\n38 2020-01-01 01:00:00        9       38       0  34604682.0     53224.0   \n39 2020-01-01 01:00:00        9       38       0  34604682.0     53224.0   \n40 2020-01-01 01:00:00        9       38       0  34604682.0     53224.0   \n41 2020-01-01 01:00:00        9       38       0  34604682.0     53224.0   \n42 2020-01-01 01:00:00        9       38       0  34604682.0     53224.0   \n\n    volume  occupancy       speed  year  repair  night  month  weekday  \n38    87.0        1.0  114.671875  2020     0.0      1      1        2  \n39   207.0        1.0  115.708435  2020     0.0      1      1        2  \n40    43.0       20.0   46.453125  2020     0.0      1      1        2  \n41   195.0        1.0   97.796875  2020     0.0      1      1        2  \n42    89.0        1.0  108.213440  2020     0.0      1      1        2  "
     },
     "execution_count": 11,
     "metadata": {},
     "output_type": "execute_result"
    }
   ],
   "source": [
    "test.head()"
   ]
  }
 ],
 "metadata": {
  "kernelspec": {
   "display_name": "Python 3.6.9 64-bit",
   "name": "python3"
  },
  "language_info": {
   "codemirror_mode": {
    "name": "ipython",
    "version": 3
   },
   "file_extension": ".py",
   "mimetype": "text/x-python",
   "name": "python",
   "nbconvert_exporter": "python",
   "pygments_lexer": "ipython3",
   "version": "3.6.9"
  },
  "orig_nbformat": 3
 },
 "nbformat": 4,
 "nbformat_minor": 4
}